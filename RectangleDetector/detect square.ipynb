{
 "cells": [
  {
   "cell_type": "markdown",
   "metadata": {},
   "source": [
    "# Detect Square From Pieces\n",
    "\n",
    "* The script assumes you are looking for four corners of a square\n",
    "* It finds sparated pieces produces combined shape\n",
    "* It finds extreme corners in the shape and filters out bad points\n",
    "* similar problem: https://dsp.stackexchange.com/questions/2564/opencv-c-connect-nearby-contours-based-on-distance-between-them"
   ]
  },
  {
   "cell_type": "markdown",
   "metadata": {},
   "source": [
    "## libraries importing "
   ]
  },
  {
   "cell_type": "code",
   "execution_count": 1,
   "metadata": {},
   "outputs": [],
   "source": [
    "import numpy as np\n",
    "import cv2\n",
    "import matplotlib.pyplot as plt"
   ]
  },
  {
   "cell_type": "markdown",
   "metadata": {},
   "source": [
    "## Function Definition"
   ]
  },
  {
   "cell_type": "code",
   "execution_count": 2,
   "metadata": {},
   "outputs": [],
   "source": [
    "def angle_ABC(a, b, c):\n",
    "    \n",
    "    \"\"\" angle_ABC returns angle in degrees,\n",
    "    it requires three points a - b - c and returns angle for point b \"\"\"\n",
    "    \n",
    "    ba = a - b\n",
    "    bc = c - b\n",
    "\n",
    "    cosine_angle = np.dot(ba, bc) / (np.linalg.norm(ba) * np.linalg.norm(bc))\n",
    "    angle = np.arccos(cosine_angle)\n",
    "    return np.degrees(angle)\n",
    "\n",
    "def find_bad_dists(hull, distance = 10):\n",
    "    \"\"\"Seach for distances between consecutive two points in contour and returns mask of point that is to close to the next\"\"\"\n",
    "    mask = []\n",
    "    points, _, _ = hull.shape\n",
    "\n",
    "    for i in range(points):\n",
    "        # determine points to compare and make sure that last and first are compared too\n",
    "        ai = i\n",
    "        bi = (i+1)%points\n",
    "        # x, y for both points\n",
    "        x1 = hull[ai][0][0]\n",
    "        y1 = hull[ai][0][1]\n",
    "        x2 = hull[bi][0][0]\n",
    "        y2 = hull[bi][0][1]\n",
    "        \n",
    "        #distance \n",
    "        dist = np.sqrt((x2 - x1)**2 + (y2 - y1)**2 )\n",
    "        #build mask with distances out ot range\n",
    "        if dist < distance:\n",
    "            print('point nr =', bi, ' -> distance =',dist)\n",
    "            mask.append(bi)\n",
    "    return mask\n",
    "    \n",
    "    \n",
    "\n",
    "def find_bad_angles(hull, acute_angle = 30, obtuse_angle = 140):\n",
    "    \"\"\"Seach for angles between points in contour and returns mask of contours smaller than acute and larger than obtuse\"\"\"\n",
    "    mask = []\n",
    "    points, _, _ = hull.shape\n",
    "\n",
    "    for i in range(points):\n",
    "        # determine points to compare angle and make sure that last and first are compared too\n",
    "        ai = i\n",
    "        bi = (i+1)%points\n",
    "        ci = (i+2)%points\n",
    "\n",
    "        #print('ai = ', ai,'bi = ',bi, 'ci = ', ci)\n",
    "        #selecting points for angle\n",
    "        a = hull[ai][0]\n",
    "        b = hull[bi][0]\n",
    "        c = hull[ci][0]\n",
    "        \n",
    "        #obtain angles        \n",
    "        angle = angle_ABC(a, b, c)\n",
    "        #print(angle, bi)\n",
    "        #build mask with angles out ot range\n",
    "        if angle > obtuse_angle or angle < acute_angle:\n",
    "            print('point nr =', bi, ' -> angle =',angle)\n",
    "            mask.append(bi)\n",
    "    return mask\n",
    "\n",
    "def mark_points(hull):\n",
    "    \"\"\"plots circles of diggerent sizes and colors around points for visual examination, \n",
    "    if points are ovelaping it will be reviled by different size of circels in the same place\"\"\"\n",
    "    points, _, _ = hull.shape\n",
    "    \n",
    "    for i in range(points):\n",
    "        r = int(np.random.randint(100,255,1)[0])\n",
    "        g = int(np.random.randint(100,255,1)[0])\n",
    "        b = int(np.random.randint(100,255,1)[0])\n",
    "\n",
    "        cv2.circle(image, (hull[i][0][0], hull[i][0][1]) , np.random.randint(10,20,1)[0], (r,g,b), 2)"
   ]
  },
  {
   "cell_type": "markdown",
   "metadata": {},
   "source": [
    "## Find four corners"
   ]
  },
  {
   "cell_type": "code",
   "execution_count": 17,
   "metadata": {},
   "outputs": [
    {
     "name": "stdout",
     "output_type": "stream",
     "text": [
      "point nr = 5  -> distance = 1.0\n",
      "point nr = 1  -> angle = 179.980920487\n"
     ]
    },
    {
     "data": {
      "text/plain": [
       "Text(0.5,1,'AFTER')"
      ]
     },
     "execution_count": 17,
     "metadata": {},
     "output_type": "execute_result"
    },
    {
     "data": {
      "image/png": "[encoded data removed]",
      "text/plain": [
       "<Figure size 1080x576 with 2 Axes>"
      ]
     },
     "metadata": {},
     "output_type": "display_data"
    }
   ],
   "source": [
    "img = cv2.imread('shape1.jpg')\n",
    "img = cv2.cvtColor(img,cv2.COLOR_RGB2GRAY)\n",
    "ret,thresh = cv2.threshold(img,127,255,0)\n",
    "img_raw = img\n",
    "\n",
    "\n",
    "_ , contours,hier = cv2.findContours(thresh, cv2.RETR_EXTERNAL, cv2.CHAIN_APPROX_SIMPLE)\n",
    "\n",
    "image =  img = cv2.cvtColor(img,cv2.COLOR_GRAY2RGB) \n",
    "\n",
    "\n",
    "#size of contour points\n",
    "length = len(contours)\n",
    "\n",
    "# tu wrzucić selekcje rejonów w momentach\n",
    "# musi być dokładnie 2\n",
    "\n",
    "#concatinate poits form all shapes into one array\n",
    "cont = np.vstack(contours[i] for i in range(length))\n",
    "\n",
    "#looking now for four corners\n",
    "\n",
    "#filter down irreleveant poits\n",
    "cnt_len = cv2.arcLength(cont, True)\n",
    "cont = cv2.approxPolyDP(cont, .01*cnt_len, True)\n",
    "hull = cv2.convexHull(cont)\n",
    "\n",
    "\n",
    "#filter out poits that are to close to each other\n",
    "mask = find_bad_dists(hull)\n",
    "hull = np.delete(hull, mask, axis=0)\n",
    "\n",
    "\n",
    "#filter out bad corneres, if they are beteween 120-180\n",
    "#they are random points in the middle of edge \n",
    "mask = find_bad_angles(hull)\n",
    "hull = np.delete(hull, mask, axis=0)\n",
    "\n",
    "\n",
    "#higlight poits\n",
    "mark_points(hull)\n",
    "        \n",
    "uni_hull = []\n",
    "uni_hull.append(hull) # <- array as first element of list\n",
    "cv2.drawContours(image,uni_hull,-1,255,2);\n",
    "\n",
    "\n",
    "# fombined figure\n",
    "fig=plt.figure(figsize=(15, 8))\n",
    "columns = 2\n",
    "rows = 1\n",
    "fig.add_subplot(1, 2, 1)\n",
    "plt.imshow(img_raw, cmap='gray')\n",
    "plt.axis('off')\n",
    "plt.title('BEFORE')\n",
    "\n",
    "fig.add_subplot(1, 2, 2)\n",
    "plt.imshow(image)\n",
    "plt.axis('off')\n",
    "plt.title('AFTER')"
   ]
  },
  {
   "cell_type": "code",
   "execution_count": null,
   "metadata": {},
   "outputs": [],
   "source": []
  }
 ],
 "metadata": {
  "kernelspec": {
   "display_name": "Python 3",
   "language": "python",
   "name": "python3"
  },
  "language_info": {
   "codemirror_mode": {
    "name": "ipython",
    "version": 3
   },
   "file_extension": ".py",
   "mimetype": "text/x-python",
   "name": "python",
   "nbconvert_exporter": "python",
   "pygments_lexer": "ipython3",
   "version": "3.6.5"
  },
  "toc": {
   "base_numbering": 1,
   "nav_menu": {},
   "number_sections": true,
   "sideBar": true,
   "skip_h1_title": false,
   "title_cell": "Table of Contents",
   "title_sidebar": "Contents",
   "toc_cell": false,
   "toc_position": {},
   "toc_section_display": true,
   "toc_window_display": true
  }
 },
 "nbformat": 4,
 "nbformat_minor": 2
}
